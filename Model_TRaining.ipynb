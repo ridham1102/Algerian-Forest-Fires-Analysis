{
  "nbformat": 4,
  "nbformat_minor": 0,
  "metadata": {
    "colab": {
      "provenance": []
    },
    "kernelspec": {
      "name": "python3",
      "display_name": "Python 3"
    },
    "language_info": {
      "name": "python"
    }
  },
  "cells": [
    {
      "cell_type": "markdown",
      "source": [
        "## Data Loading and Initial Exploration\n",
        "\n",
        "This section loads the dataset and performs initial inspections to understand its structure and content."
      ],
      "metadata": {
        "id": "lZNziyNTEJVR"
      }
    },
    {
      "cell_type": "code",
      "execution_count": 10,
      "metadata": {
        "id": "XgUfls78JxiD"
      },
      "outputs": [],
      "source": [
        "import numpy as np\n",
        "import pandas as pd\n",
        "import matplotlib.pyplot as plt\n",
        "import seaborn as sns\n",
        "import warnings\n",
        "warnings.filterwarnings('ignore')"
      ]
    },
    {
      "cell_type": "code",
      "source": [
        "df = pd.read_csv('/content/Algerian_forest_fires_Cleaned_dataset.csv')"
      ],
      "metadata": {
        "id": "9rSvCtg-KDfi"
      },
      "execution_count": 11,
      "outputs": []
    },
    {
      "cell_type": "code",
      "source": [
        "df.head()"
      ],
      "metadata": {
        "colab": {
          "base_uri": "https://localhost:8080/",
          "height": 206
        },
        "id": "9437Mvd1KMr5",
        "outputId": "81634e28-3990-443e-b283-cb1cb58eb1cd"
      },
      "execution_count": 12,
      "outputs": [
        {
          "output_type": "execute_result",
          "data": {
            "text/plain": [
              "   day  month  year  Temperature  RH  Ws  Rain  FFMC  DMC    DC  ISI  BUI  \\\n",
              "0    1      6  2012           29  57  18   0.0  65.7  3.4   7.6  1.3  3.4   \n",
              "1    2      6  2012           29  61  13   1.3  64.4  4.1   7.6  1.0  3.9   \n",
              "2    3      6  2012           26  82  22  13.1  47.1  2.5   7.1  0.3  2.7   \n",
              "3    4      6  2012           25  89  13   2.5  28.6  1.3   6.9  0.0  1.7   \n",
              "4    5      6  2012           27  77  16   0.0  64.8  3.0  14.2  1.2  3.9   \n",
              "\n",
              "   FWI      Classes  Region  \n",
              "0  0.5  not fire        0.0  \n",
              "1  0.4  not fire        0.0  \n",
              "2  0.1  not fire        0.0  \n",
              "3  0.0  not fire        0.0  \n",
              "4  0.5  not fire        0.0  "
            ],
            "text/html": [
              "\n",
              "  <div id=\"df-2e642e03-53d6-4a19-b2b4-f3a9bfea6cb2\" class=\"colab-df-container\">\n",
              "    <div>\n",
              "<style scoped>\n",
              "    .dataframe tbody tr th:only-of-type {\n",
              "        vertical-align: middle;\n",
              "    }\n",
              "\n",
              "    .dataframe tbody tr th {\n",
              "        vertical-align: top;\n",
              "    }\n",
              "\n",
              "    .dataframe thead th {\n",
              "        text-align: right;\n",
              "    }\n",
              "</style>\n",
              "<table border=\"1\" class=\"dataframe\">\n",
              "  <thead>\n",
              "    <tr style=\"text-align: right;\">\n",
              "      <th></th>\n",
              "      <th>day</th>\n",
              "      <th>month</th>\n",
              "      <th>year</th>\n",
              "      <th>Temperature</th>\n",
              "      <th>RH</th>\n",
              "      <th>Ws</th>\n",
              "      <th>Rain</th>\n",
              "      <th>FFMC</th>\n",
              "      <th>DMC</th>\n",
              "      <th>DC</th>\n",
              "      <th>ISI</th>\n",
              "      <th>BUI</th>\n",
              "      <th>FWI</th>\n",
              "      <th>Classes</th>\n",
              "      <th>Region</th>\n",
              "    </tr>\n",
              "  </thead>\n",
              "  <tbody>\n",
              "    <tr>\n",
              "      <th>0</th>\n",
              "      <td>1</td>\n",
              "      <td>6</td>\n",
              "      <td>2012</td>\n",
              "      <td>29</td>\n",
              "      <td>57</td>\n",
              "      <td>18</td>\n",
              "      <td>0.0</td>\n",
              "      <td>65.7</td>\n",
              "      <td>3.4</td>\n",
              "      <td>7.6</td>\n",
              "      <td>1.3</td>\n",
              "      <td>3.4</td>\n",
              "      <td>0.5</td>\n",
              "      <td>not fire</td>\n",
              "      <td>0.0</td>\n",
              "    </tr>\n",
              "    <tr>\n",
              "      <th>1</th>\n",
              "      <td>2</td>\n",
              "      <td>6</td>\n",
              "      <td>2012</td>\n",
              "      <td>29</td>\n",
              "      <td>61</td>\n",
              "      <td>13</td>\n",
              "      <td>1.3</td>\n",
              "      <td>64.4</td>\n",
              "      <td>4.1</td>\n",
              "      <td>7.6</td>\n",
              "      <td>1.0</td>\n",
              "      <td>3.9</td>\n",
              "      <td>0.4</td>\n",
              "      <td>not fire</td>\n",
              "      <td>0.0</td>\n",
              "    </tr>\n",
              "    <tr>\n",
              "      <th>2</th>\n",
              "      <td>3</td>\n",
              "      <td>6</td>\n",
              "      <td>2012</td>\n",
              "      <td>26</td>\n",
              "      <td>82</td>\n",
              "      <td>22</td>\n",
              "      <td>13.1</td>\n",
              "      <td>47.1</td>\n",
              "      <td>2.5</td>\n",
              "      <td>7.1</td>\n",
              "      <td>0.3</td>\n",
              "      <td>2.7</td>\n",
              "      <td>0.1</td>\n",
              "      <td>not fire</td>\n",
              "      <td>0.0</td>\n",
              "    </tr>\n",
              "    <tr>\n",
              "      <th>3</th>\n",
              "      <td>4</td>\n",
              "      <td>6</td>\n",
              "      <td>2012</td>\n",
              "      <td>25</td>\n",
              "      <td>89</td>\n",
              "      <td>13</td>\n",
              "      <td>2.5</td>\n",
              "      <td>28.6</td>\n",
              "      <td>1.3</td>\n",
              "      <td>6.9</td>\n",
              "      <td>0.0</td>\n",
              "      <td>1.7</td>\n",
              "      <td>0.0</td>\n",
              "      <td>not fire</td>\n",
              "      <td>0.0</td>\n",
              "    </tr>\n",
              "    <tr>\n",
              "      <th>4</th>\n",
              "      <td>5</td>\n",
              "      <td>6</td>\n",
              "      <td>2012</td>\n",
              "      <td>27</td>\n",
              "      <td>77</td>\n",
              "      <td>16</td>\n",
              "      <td>0.0</td>\n",
              "      <td>64.8</td>\n",
              "      <td>3.0</td>\n",
              "      <td>14.2</td>\n",
              "      <td>1.2</td>\n",
              "      <td>3.9</td>\n",
              "      <td>0.5</td>\n",
              "      <td>not fire</td>\n",
              "      <td>0.0</td>\n",
              "    </tr>\n",
              "  </tbody>\n",
              "</table>\n",
              "</div>\n",
              "    <div class=\"colab-df-buttons\">\n",
              "\n",
              "  <div class=\"colab-df-container\">\n",
              "    <button class=\"colab-df-convert\" onclick=\"convertToInteractive('df-2e642e03-53d6-4a19-b2b4-f3a9bfea6cb2')\"\n",
              "            title=\"Convert this dataframe to an interactive table.\"\n",
              "            style=\"display:none;\">\n",
              "\n",
              "  <svg xmlns=\"http://www.w3.org/2000/svg\" height=\"24px\" viewBox=\"0 -960 960 960\">\n",
              "    <path d=\"M120-120v-720h720v720H120Zm60-500h600v-160H180v160Zm220 220h160v-160H400v160Zm0 220h160v-160H400v160ZM180-400h160v-160H180v160Zm440 0h160v-160H620v160ZM180-180h160v-160H180v160Zm440 0h160v-160H620v160Z\"/>\n",
              "  </svg>\n",
              "    </button>\n",
              "\n",
              "  <style>\n",
              "    .colab-df-container {\n",
              "      display:flex;\n",
              "      gap: 12px;\n",
              "    }\n",
              "\n",
              "    .colab-df-convert {\n",
              "      background-color: #E8F0FE;\n",
              "      border: none;\n",
              "      border-radius: 50%;\n",
              "      cursor: pointer;\n",
              "      display: none;\n",
              "      fill: #1967D2;\n",
              "      height: 32px;\n",
              "      padding: 0 0 0 0;\n",
              "      width: 32px;\n",
              "    }\n",
              "\n",
              "    .colab-df-convert:hover {\n",
              "      background-color: #E2EBFA;\n",
              "      box-shadow: 0px 1px 2px rgba(60, 64, 67, 0.3), 0px 1px 3px 1px rgba(60, 64, 67, 0.15);\n",
              "      fill: #174EA6;\n",
              "    }\n",
              "\n",
              "    .colab-df-buttons div {\n",
              "      margin-bottom: 4px;\n",
              "    }\n",
              "\n",
              "    [theme=dark] .colab-df-convert {\n",
              "      background-color: #3B4455;\n",
              "      fill: #D2E3FC;\n",
              "    }\n",
              "\n",
              "    [theme=dark] .colab-df-convert:hover {\n",
              "      background-color: #434B5C;\n",
              "      box-shadow: 0px 1px 3px 1px rgba(0, 0, 0, 0.15);\n",
              "      filter: drop-shadow(0px 1px 2px rgba(0, 0, 0, 0.3));\n",
              "      fill: #FFFFFF;\n",
              "    }\n",
              "  </style>\n",
              "\n",
              "    <script>\n",
              "      const buttonEl =\n",
              "        document.querySelector('#df-2e642e03-53d6-4a19-b2b4-f3a9bfea6cb2 button.colab-df-convert');\n",
              "      buttonEl.style.display =\n",
              "        google.colab.kernel.accessAllowed ? 'block' : 'none';\n",
              "\n",
              "      async function convertToInteractive(key) {\n",
              "        const element = document.querySelector('#df-2e642e03-53d6-4a19-b2b4-f3a9bfea6cb2');\n",
              "        const dataTable =\n",
              "          await google.colab.kernel.invokeFunction('convertToInteractive',\n",
              "                                                    [key], {});\n",
              "        if (!dataTable) return;\n",
              "\n",
              "        const docLinkHtml = 'Like what you see? Visit the ' +\n",
              "          '<a target=\"_blank\" href=https://colab.research.google.com/notebooks/data_table.ipynb>data table notebook</a>'\n",
              "          + ' to learn more about interactive tables.';\n",
              "        element.innerHTML = '';\n",
              "        dataTable['output_type'] = 'display_data';\n",
              "        await google.colab.output.renderOutput(dataTable, element);\n",
              "        const docLink = document.createElement('div');\n",
              "        docLink.innerHTML = docLinkHtml;\n",
              "        element.appendChild(docLink);\n",
              "      }\n",
              "    </script>\n",
              "  </div>\n",
              "\n",
              "\n",
              "    <div id=\"df-d2b05e8c-821a-4e14-8f32-4a6e9e3ce0ef\">\n",
              "      <button class=\"colab-df-quickchart\" onclick=\"quickchart('df-d2b05e8c-821a-4e14-8f32-4a6e9e3ce0ef')\"\n",
              "                title=\"Suggest charts\"\n",
              "                style=\"display:none;\">\n",
              "\n",
              "<svg xmlns=\"http://www.w3.org/2000/svg\" height=\"24px\"viewBox=\"0 0 24 24\"\n",
              "     width=\"24px\">\n",
              "    <g>\n",
              "        <path d=\"M19 3H5c-1.1 0-2 .9-2 2v14c0 1.1.9 2 2 2h14c1.1 0 2-.9 2-2V5c0-1.1-.9-2-2-2zM9 17H7v-7h2v7zm4 0h-2V7h2v10zm4 0h-2v-4h2v4z\"/>\n",
              "    </g>\n",
              "</svg>\n",
              "      </button>\n",
              "\n",
              "<style>\n",
              "  .colab-df-quickchart {\n",
              "      --bg-color: #E8F0FE;\n",
              "      --fill-color: #1967D2;\n",
              "      --hover-bg-color: #E2EBFA;\n",
              "      --hover-fill-color: #174EA6;\n",
              "      --disabled-fill-color: #AAA;\n",
              "      --disabled-bg-color: #DDD;\n",
              "  }\n",
              "\n",
              "  [theme=dark] .colab-df-quickchart {\n",
              "      --bg-color: #3B4455;\n",
              "      --fill-color: #D2E3FC;\n",
              "      --hover-bg-color: #434B5C;\n",
              "      --hover-fill-color: #FFFFFF;\n",
              "      --disabled-bg-color: #3B4455;\n",
              "      --disabled-fill-color: #666;\n",
              "  }\n",
              "\n",
              "  .colab-df-quickchart {\n",
              "    background-color: var(--bg-color);\n",
              "    border: none;\n",
              "    border-radius: 50%;\n",
              "    cursor: pointer;\n",
              "    display: none;\n",
              "    fill: var(--fill-color);\n",
              "    height: 32px;\n",
              "    padding: 0;\n",
              "    width: 32px;\n",
              "  }\n",
              "\n",
              "  .colab-df-quickchart:hover {\n",
              "    background-color: var(--hover-bg-color);\n",
              "    box-shadow: 0 1px 2px rgba(60, 64, 67, 0.3), 0 1px 3px 1px rgba(60, 64, 67, 0.15);\n",
              "    fill: var(--button-hover-fill-color);\n",
              "  }\n",
              "\n",
              "  .colab-df-quickchart-complete:disabled,\n",
              "  .colab-df-quickchart-complete:disabled:hover {\n",
              "    background-color: var(--disabled-bg-color);\n",
              "    fill: var(--disabled-fill-color);\n",
              "    box-shadow: none;\n",
              "  }\n",
              "\n",
              "  .colab-df-spinner {\n",
              "    border: 2px solid var(--fill-color);\n",
              "    border-color: transparent;\n",
              "    border-bottom-color: var(--fill-color);\n",
              "    animation:\n",
              "      spin 1s steps(1) infinite;\n",
              "  }\n",
              "\n",
              "  @keyframes spin {\n",
              "    0% {\n",
              "      border-color: transparent;\n",
              "      border-bottom-color: var(--fill-color);\n",
              "      border-left-color: var(--fill-color);\n",
              "    }\n",
              "    20% {\n",
              "      border-color: transparent;\n",
              "      border-left-color: var(--fill-color);\n",
              "      border-top-color: var(--fill-color);\n",
              "    }\n",
              "    30% {\n",
              "      border-color: transparent;\n",
              "      border-left-color: var(--fill-color);\n",
              "      border-top-color: var(--fill-color);\n",
              "      border-right-color: var(--fill-color);\n",
              "    }\n",
              "    40% {\n",
              "      border-color: transparent;\n",
              "      border-right-color: var(--fill-color);\n",
              "      border-top-color: var(--fill-color);\n",
              "    }\n",
              "    60% {\n",
              "      border-color: transparent;\n",
              "      border-right-color: var(--fill-color);\n",
              "    }\n",
              "    80% {\n",
              "      border-color: transparent;\n",
              "      border-right-color: var(--fill-color);\n",
              "      border-bottom-color: var(--fill-color);\n",
              "    }\n",
              "    90% {\n",
              "      border-color: transparent;\n",
              "      border-bottom-color: var(--fill-color);\n",
              "    }\n",
              "  }\n",
              "</style>\n",
              "\n",
              "      <script>\n",
              "        async function quickchart(key) {\n",
              "          const quickchartButtonEl =\n",
              "            document.querySelector('#' + key + ' button');\n",
              "          quickchartButtonEl.disabled = true;  // To prevent multiple clicks.\n",
              "          quickchartButtonEl.classList.add('colab-df-spinner');\n",
              "          try {\n",
              "            const charts = await google.colab.kernel.invokeFunction(\n",
              "                'suggestCharts', [key], {});\n",
              "          } catch (error) {\n",
              "            console.error('Error during call to suggestCharts:', error);\n",
              "          }\n",
              "          quickchartButtonEl.classList.remove('colab-df-spinner');\n",
              "          quickchartButtonEl.classList.add('colab-df-quickchart-complete');\n",
              "        }\n",
              "        (() => {\n",
              "          let quickchartButtonEl =\n",
              "            document.querySelector('#df-d2b05e8c-821a-4e14-8f32-4a6e9e3ce0ef button');\n",
              "          quickchartButtonEl.style.display =\n",
              "            google.colab.kernel.accessAllowed ? 'block' : 'none';\n",
              "        })();\n",
              "      </script>\n",
              "    </div>\n",
              "\n",
              "    </div>\n",
              "  </div>\n"
            ],
            "application/vnd.google.colaboratory.intrinsic+json": {
              "type": "dataframe",
              "variable_name": "df",
              "summary": "{\n  \"name\": \"df\",\n  \"rows\": 243,\n  \"fields\": [\n    {\n      \"column\": \"day\",\n      \"properties\": {\n        \"dtype\": \"number\",\n        \"std\": 8,\n        \"min\": 1,\n        \"max\": 31,\n        \"num_unique_values\": 31,\n        \"samples\": [\n          28,\n          16,\n          24\n        ],\n        \"semantic_type\": \"\",\n        \"description\": \"\"\n      }\n    },\n    {\n      \"column\": \"month\",\n      \"properties\": {\n        \"dtype\": \"number\",\n        \"std\": 1,\n        \"min\": 6,\n        \"max\": 9,\n        \"num_unique_values\": 4,\n        \"samples\": [\n          7,\n          9,\n          6\n        ],\n        \"semantic_type\": \"\",\n        \"description\": \"\"\n      }\n    },\n    {\n      \"column\": \"year\",\n      \"properties\": {\n        \"dtype\": \"number\",\n        \"std\": 0,\n        \"min\": 2012,\n        \"max\": 2012,\n        \"num_unique_values\": 1,\n        \"samples\": [\n          2012\n        ],\n        \"semantic_type\": \"\",\n        \"description\": \"\"\n      }\n    },\n    {\n      \"column\": \"Temperature\",\n      \"properties\": {\n        \"dtype\": \"number\",\n        \"std\": 3,\n        \"min\": 22,\n        \"max\": 42,\n        \"num_unique_values\": 19,\n        \"samples\": [\n          29\n        ],\n        \"semantic_type\": \"\",\n        \"description\": \"\"\n      }\n    },\n    {\n      \"column\": \"RH\",\n      \"properties\": {\n        \"dtype\": \"number\",\n        \"std\": 14,\n        \"min\": 21,\n        \"max\": 90,\n        \"num_unique_values\": 62,\n        \"samples\": [\n          83\n        ],\n        \"semantic_type\": \"\",\n        \"description\": \"\"\n      }\n    },\n    {\n      \"column\": \"Ws\",\n      \"properties\": {\n        \"dtype\": \"number\",\n        \"std\": 2,\n        \"min\": 6,\n        \"max\": 29,\n        \"num_unique_values\": 18,\n        \"samples\": [\n          18\n        ],\n        \"semantic_type\": \"\",\n        \"description\": \"\"\n      }\n    },\n    {\n      \"column\": \"Rain\",\n      \"properties\": {\n        \"dtype\": \"number\",\n        \"std\": 2.003206795506825,\n        \"min\": 0.0,\n        \"max\": 16.8,\n        \"num_unique_values\": 39,\n        \"samples\": [\n          6.0\n        ],\n        \"semantic_type\": \"\",\n        \"description\": \"\"\n      }\n    },\n    {\n      \"column\": \"FFMC\",\n      \"properties\": {\n        \"dtype\": \"number\",\n        \"std\": 14.349641256730104,\n        \"min\": 28.6,\n        \"max\": 96.0,\n        \"num_unique_values\": 173,\n        \"samples\": [\n          64.5\n        ],\n        \"semantic_type\": \"\",\n        \"description\": \"\"\n      }\n    },\n    {\n      \"column\": \"DMC\",\n      \"properties\": {\n        \"dtype\": \"number\",\n        \"std\": 12.393039751223832,\n        \"min\": 0.7,\n        \"max\": 65.9,\n        \"num_unique_values\": 165,\n        \"samples\": [\n          16.9\n        ],\n        \"semantic_type\": \"\",\n        \"description\": \"\"\n      }\n    },\n    {\n      \"column\": \"DC\",\n      \"properties\": {\n        \"dtype\": \"number\",\n        \"std\": 47.665605984589924,\n        \"min\": 6.9,\n        \"max\": 220.4,\n        \"num_unique_values\": 197,\n        \"samples\": [\n          90.1\n        ],\n        \"semantic_type\": \"\",\n        \"description\": \"\"\n      }\n    },\n    {\n      \"column\": \"ISI\",\n      \"properties\": {\n        \"dtype\": \"number\",\n        \"std\": 4.154233833368702,\n        \"min\": 0.0,\n        \"max\": 19.0,\n        \"num_unique_values\": 106,\n        \"samples\": [\n          13.1\n        ],\n        \"semantic_type\": \"\",\n        \"description\": \"\"\n      }\n    },\n    {\n      \"column\": \"BUI\",\n      \"properties\": {\n        \"dtype\": \"number\",\n        \"std\": 14.22842113146896,\n        \"min\": 1.1,\n        \"max\": 68.0,\n        \"num_unique_values\": 173,\n        \"samples\": [\n          4.6\n        ],\n        \"semantic_type\": \"\",\n        \"description\": \"\"\n      }\n    },\n    {\n      \"column\": \"FWI\",\n      \"properties\": {\n        \"dtype\": \"number\",\n        \"std\": 7.440567726345274,\n        \"min\": 0.0,\n        \"max\": 31.1,\n        \"num_unique_values\": 125,\n        \"samples\": [\n          15.0\n        ],\n        \"semantic_type\": \"\",\n        \"description\": \"\"\n      }\n    },\n    {\n      \"column\": \"Classes\",\n      \"properties\": {\n        \"dtype\": \"category\",\n        \"num_unique_values\": 8,\n        \"samples\": [\n          \"fire   \"\n        ],\n        \"semantic_type\": \"\",\n        \"description\": \"\"\n      }\n    },\n    {\n      \"column\": \"Region\",\n      \"properties\": {\n        \"dtype\": \"number\",\n        \"std\": 0.501027750313655,\n        \"min\": 0.0,\n        \"max\": 1.0,\n        \"num_unique_values\": 2,\n        \"samples\": [\n          1.0\n        ],\n        \"semantic_type\": \"\",\n        \"description\": \"\"\n      }\n    }\n  ]\n}"
            }
          },
          "metadata": {},
          "execution_count": 12
        }
      ]
    },
    {
      "cell_type": "code",
      "source": [
        "df.info()"
      ],
      "metadata": {
        "colab": {
          "base_uri": "https://localhost:8080/"
        },
        "id": "Tb8vOYvNKduu",
        "outputId": "32a48be5-2551-49fa-cd74-94bbd1763990"
      },
      "execution_count": 13,
      "outputs": [
        {
          "output_type": "stream",
          "name": "stdout",
          "text": [
            "<class 'pandas.core.frame.DataFrame'>\n",
            "RangeIndex: 243 entries, 0 to 242\n",
            "Data columns (total 15 columns):\n",
            " #   Column       Non-Null Count  Dtype  \n",
            "---  ------       --------------  -----  \n",
            " 0   day          243 non-null    int64  \n",
            " 1   month        243 non-null    int64  \n",
            " 2   year         243 non-null    int64  \n",
            " 3   Temperature  243 non-null    int64  \n",
            " 4   RH           243 non-null    int64  \n",
            " 5   Ws           243 non-null    int64  \n",
            " 6   Rain         243 non-null    float64\n",
            " 7   FFMC         243 non-null    float64\n",
            " 8   DMC          243 non-null    float64\n",
            " 9   DC           243 non-null    float64\n",
            " 10  ISI          243 non-null    float64\n",
            " 11  BUI          243 non-null    float64\n",
            " 12  FWI          243 non-null    float64\n",
            " 13  Classes      243 non-null    object \n",
            " 14  Region       243 non-null    float64\n",
            "dtypes: float64(8), int64(6), object(1)\n",
            "memory usage: 28.6+ KB\n"
          ]
        }
      ]
    },
    {
      "cell_type": "code",
      "source": [
        "df.isnull().sum()"
      ],
      "metadata": {
        "colab": {
          "base_uri": "https://localhost:8080/",
          "height": 554
        },
        "id": "mu2icridKhez",
        "outputId": "3a20a35e-9940-44d1-cc71-f440d2cefaef"
      },
      "execution_count": 14,
      "outputs": [
        {
          "output_type": "execute_result",
          "data": {
            "text/plain": [
              "day            0\n",
              "month          0\n",
              "year           0\n",
              "Temperature    0\n",
              "RH             0\n",
              "Ws             0\n",
              "Rain           0\n",
              "FFMC           0\n",
              "DMC            0\n",
              "DC             0\n",
              "ISI            0\n",
              "BUI            0\n",
              "FWI            0\n",
              "Classes        0\n",
              "Region         0\n",
              "dtype: int64"
            ],
            "text/html": [
              "<div>\n",
              "<style scoped>\n",
              "    .dataframe tbody tr th:only-of-type {\n",
              "        vertical-align: middle;\n",
              "    }\n",
              "\n",
              "    .dataframe tbody tr th {\n",
              "        vertical-align: top;\n",
              "    }\n",
              "\n",
              "    .dataframe thead th {\n",
              "        text-align: right;\n",
              "    }\n",
              "</style>\n",
              "<table border=\"1\" class=\"dataframe\">\n",
              "  <thead>\n",
              "    <tr style=\"text-align: right;\">\n",
              "      <th></th>\n",
              "      <th>0</th>\n",
              "    </tr>\n",
              "  </thead>\n",
              "  <tbody>\n",
              "    <tr>\n",
              "      <th>day</th>\n",
              "      <td>0</td>\n",
              "    </tr>\n",
              "    <tr>\n",
              "      <th>month</th>\n",
              "      <td>0</td>\n",
              "    </tr>\n",
              "    <tr>\n",
              "      <th>year</th>\n",
              "      <td>0</td>\n",
              "    </tr>\n",
              "    <tr>\n",
              "      <th>Temperature</th>\n",
              "      <td>0</td>\n",
              "    </tr>\n",
              "    <tr>\n",
              "      <th>RH</th>\n",
              "      <td>0</td>\n",
              "    </tr>\n",
              "    <tr>\n",
              "      <th>Ws</th>\n",
              "      <td>0</td>\n",
              "    </tr>\n",
              "    <tr>\n",
              "      <th>Rain</th>\n",
              "      <td>0</td>\n",
              "    </tr>\n",
              "    <tr>\n",
              "      <th>FFMC</th>\n",
              "      <td>0</td>\n",
              "    </tr>\n",
              "    <tr>\n",
              "      <th>DMC</th>\n",
              "      <td>0</td>\n",
              "    </tr>\n",
              "    <tr>\n",
              "      <th>DC</th>\n",
              "      <td>0</td>\n",
              "    </tr>\n",
              "    <tr>\n",
              "      <th>ISI</th>\n",
              "      <td>0</td>\n",
              "    </tr>\n",
              "    <tr>\n",
              "      <th>BUI</th>\n",
              "      <td>0</td>\n",
              "    </tr>\n",
              "    <tr>\n",
              "      <th>FWI</th>\n",
              "      <td>0</td>\n",
              "    </tr>\n",
              "    <tr>\n",
              "      <th>Classes</th>\n",
              "      <td>0</td>\n",
              "    </tr>\n",
              "    <tr>\n",
              "      <th>Region</th>\n",
              "      <td>0</td>\n",
              "    </tr>\n",
              "  </tbody>\n",
              "</table>\n",
              "</div><br><label><b>dtype:</b> int64</label>"
            ]
          },
          "metadata": {},
          "execution_count": 14
        }
      ]
    },
    {
      "cell_type": "markdown",
      "source": [
        "## Data Cleaning and Preparation\n",
        "\n",
        "This section handles data cleaning steps such as stripping whitespace from column names and the target variable, and then converts the 'Classes' column into numerical representation. It also drops irrelevant columns."
      ],
      "metadata": {
        "id": "wJEpVv7sEWBp"
      }
    },
    {
      "cell_type": "code",
      "source": [
        "df.columns = df.columns.str.strip()"
      ],
      "metadata": {
        "id": "WLurFuc8KmcF"
      },
      "execution_count": 15,
      "outputs": []
    },
    {
      "cell_type": "code",
      "source": [
        "df['Classes'] = df['Classes'].str.strip()"
      ],
      "metadata": {
        "id": "GF0-7X8bLO7V"
      },
      "execution_count": 16,
      "outputs": []
    },
    {
      "cell_type": "code",
      "source": [
        "df['Classes'].value_counts()"
      ],
      "metadata": {
        "colab": {
          "base_uri": "https://localhost:8080/",
          "height": 178
        },
        "id": "SFabhCf9K-A6",
        "outputId": "292edc9e-d093-4eaf-fda5-71780cbbe523"
      },
      "execution_count": 17,
      "outputs": [
        {
          "output_type": "execute_result",
          "data": {
            "text/plain": [
              "Classes\n",
              "fire        137\n",
              "not fire    106\n",
              "Name: count, dtype: int64"
            ],
            "text/html": [
              "<div>\n",
              "<style scoped>\n",
              "    .dataframe tbody tr th:only-of-type {\n",
              "        vertical-align: middle;\n",
              "    }\n",
              "\n",
              "    .dataframe tbody tr th {\n",
              "        vertical-align: top;\n",
              "    }\n",
              "\n",
              "    .dataframe thead th {\n",
              "        text-align: right;\n",
              "    }\n",
              "</style>\n",
              "<table border=\"1\" class=\"dataframe\">\n",
              "  <thead>\n",
              "    <tr style=\"text-align: right;\">\n",
              "      <th></th>\n",
              "      <th>count</th>\n",
              "    </tr>\n",
              "    <tr>\n",
              "      <th>Classes</th>\n",
              "      <th></th>\n",
              "    </tr>\n",
              "  </thead>\n",
              "  <tbody>\n",
              "    <tr>\n",
              "      <th>fire</th>\n",
              "      <td>137</td>\n",
              "    </tr>\n",
              "    <tr>\n",
              "      <th>not fire</th>\n",
              "      <td>106</td>\n",
              "    </tr>\n",
              "  </tbody>\n",
              "</table>\n",
              "</div><br><label><b>dtype:</b> int64</label>"
            ]
          },
          "metadata": {},
          "execution_count": 17
        }
      ]
    },
    {
      "cell_type": "code",
      "source": [
        "df['Classes'] = np.where(df['Classes'].str.contains(\"not fire\"),0,1 )"
      ],
      "metadata": {
        "id": "MBrQi6GkLZUr"
      },
      "execution_count": 18,
      "outputs": []
    },
    {
      "cell_type": "code",
      "source": [
        "df['Classes'].value_counts()"
      ],
      "metadata": {
        "colab": {
          "base_uri": "https://localhost:8080/",
          "height": 178
        },
        "id": "eBKUxE1AMbL1",
        "outputId": "cee1fbc0-8f0f-4b54-e0d9-f2143b7bc251"
      },
      "execution_count": 19,
      "outputs": [
        {
          "output_type": "execute_result",
          "data": {
            "text/plain": [
              "Classes\n",
              "1    137\n",
              "0    106\n",
              "Name: count, dtype: int64"
            ],
            "text/html": [
              "<div>\n",
              "<style scoped>\n",
              "    .dataframe tbody tr th:only-of-type {\n",
              "        vertical-align: middle;\n",
              "    }\n",
              "\n",
              "    .dataframe tbody tr th {\n",
              "        vertical-align: top;\n",
              "    }\n",
              "\n",
              "    .dataframe thead th {\n",
              "        text-align: right;\n",
              "    }\n",
              "</style>\n",
              "<table border=\"1\" class=\"dataframe\">\n",
              "  <thead>\n",
              "    <tr style=\"text-align: right;\">\n",
              "      <th></th>\n",
              "      <th>count</th>\n",
              "    </tr>\n",
              "    <tr>\n",
              "      <th>Classes</th>\n",
              "      <th></th>\n",
              "    </tr>\n",
              "  </thead>\n",
              "  <tbody>\n",
              "    <tr>\n",
              "      <th>1</th>\n",
              "      <td>137</td>\n",
              "    </tr>\n",
              "    <tr>\n",
              "      <th>0</th>\n",
              "      <td>106</td>\n",
              "    </tr>\n",
              "  </tbody>\n",
              "</table>\n",
              "</div><br><label><b>dtype:</b> int64</label>"
            ]
          },
          "metadata": {},
          "execution_count": 19
        }
      ]
    },
    {
      "cell_type": "code",
      "source": [
        "df.drop(['day','month' ,'year'] ,axis =1 , inplace= True)"
      ],
      "metadata": {
        "id": "WYYsar_yMlZN"
      },
      "execution_count": 20,
      "outputs": []
    },
    {
      "cell_type": "code",
      "source": [
        "df.head(2)"
      ],
      "metadata": {
        "colab": {
          "base_uri": "https://localhost:8080/",
          "height": 112
        },
        "id": "L0b1Ek6tMzTn",
        "outputId": "38e3953e-d8bc-4a9d-c2d3-ee166b863abe"
      },
      "execution_count": 21,
      "outputs": [
        {
          "output_type": "execute_result",
          "data": {
            "text/plain": [
              "   Temperature  RH  Ws  Rain  FFMC  DMC   DC  ISI  BUI  FWI  Classes  Region\n",
              "0           29  57  18   0.0  65.7  3.4  7.6  1.3  3.4  0.5        0     0.0\n",
              "1           29  61  13   1.3  64.4  4.1  7.6  1.0  3.9  0.4        0     0.0"
            ],
            "text/html": [
              "\n",
              "  <div id=\"df-43ab7bf4-cd86-4867-af0f-4be8851f72b1\" class=\"colab-df-container\">\n",
              "    <div>\n",
              "<style scoped>\n",
              "    .dataframe tbody tr th:only-of-type {\n",
              "        vertical-align: middle;\n",
              "    }\n",
              "\n",
              "    .dataframe tbody tr th {\n",
              "        vertical-align: top;\n",
              "    }\n",
              "\n",
              "    .dataframe thead th {\n",
              "        text-align: right;\n",
              "    }\n",
              "</style>\n",
              "<table border=\"1\" class=\"dataframe\">\n",
              "  <thead>\n",
              "    <tr style=\"text-align: right;\">\n",
              "      <th></th>\n",
              "      <th>Temperature</th>\n",
              "      <th>RH</th>\n",
              "      <th>Ws</th>\n",
              "      <th>Rain</th>\n",
              "      <th>FFMC</th>\n",
              "      <th>DMC</th>\n",
              "      <th>DC</th>\n",
              "      <th>ISI</th>\n",
              "      <th>BUI</th>\n",
              "      <th>FWI</th>\n",
              "      <th>Classes</th>\n",
              "      <th>Region</th>\n",
              "    </tr>\n",
              "  </thead>\n",
              "  <tbody>\n",
              "    <tr>\n",
              "      <th>0</th>\n",
              "      <td>29</td>\n",
              "      <td>57</td>\n",
              "      <td>18</td>\n",
              "      <td>0.0</td>\n",
              "      <td>65.7</td>\n",
              "      <td>3.4</td>\n",
              "      <td>7.6</td>\n",
              "      <td>1.3</td>\n",
              "      <td>3.4</td>\n",
              "      <td>0.5</td>\n",
              "      <td>0</td>\n",
              "      <td>0.0</td>\n",
              "    </tr>\n",
              "    <tr>\n",
              "      <th>1</th>\n",
              "      <td>29</td>\n",
              "      <td>61</td>\n",
              "      <td>13</td>\n",
              "      <td>1.3</td>\n",
              "      <td>64.4</td>\n",
              "      <td>4.1</td>\n",
              "      <td>7.6</td>\n",
              "      <td>1.0</td>\n",
              "      <td>3.9</td>\n",
              "      <td>0.4</td>\n",
              "      <td>0</td>\n",
              "      <td>0.0</td>\n",
              "    </tr>\n",
              "  </tbody>\n",
              "</table>\n",
              "</div>\n",
              "    <div class=\"colab-df-buttons\">\n",
              "\n",
              "  <div class=\"colab-df-container\">\n",
              "    <button class=\"colab-df-convert\" onclick=\"convertToInteractive('df-43ab7bf4-cd86-4867-af0f-4be8851f72b1')\"\n",
              "            title=\"Convert this dataframe to an interactive table.\"\n",
              "            style=\"display:none;\">\n",
              "\n",
              "  <svg xmlns=\"http://www.w3.org/2000/svg\" height=\"24px\" viewBox=\"0 -960 960 960\">\n",
              "    <path d=\"M120-120v-720h720v720H120Zm60-500h600v-160H180v160Zm220 220h160v-160H400v160Zm0 220h160v-160H400v160ZM180-400h160v-160H180v160Zm440 0h160v-160H620v160ZM180-180h160v-160H180v160Zm440 0h160v-160H620v160Z\"/>\n",
              "  </svg>\n",
              "    </button>\n",
              "\n",
              "  <style>\n",
              "    .colab-df-container {\n",
              "      display:flex;\n",
              "      gap: 12px;\n",
              "    }\n",
              "\n",
              "    .colab-df-convert {\n",
              "      background-color: #E8F0FE;\n",
              "      border: none;\n",
              "      border-radius: 50%;\n",
              "      cursor: pointer;\n",
              "      display: none;\n",
              "      fill: #1967D2;\n",
              "      height: 32px;\n",
              "      padding: 0 0 0 0;\n",
              "      width: 32px;\n",
              "    }\n",
              "\n",
              "    .colab-df-convert:hover {\n",
              "      background-color: #E2EBFA;\n",
              "      box-shadow: 0px 1px 2px rgba(60, 64, 67, 0.3), 0px 1px 3px 1px rgba(60, 64, 67, 0.15);\n",
              "      fill: #174EA6;\n",
              "    }\n",
              "\n",
              "    .colab-df-buttons div {\n",
              "      margin-bottom: 4px;\n",
              "    }\n",
              "\n",
              "    [theme=dark] .colab-df-convert {\n",
              "      background-color: #3B4455;\n",
              "      fill: #D2E3FC;\n",
              "    }\n",
              "\n",
              "    [theme=dark] .colab-df-convert:hover {\n",
              "      background-color: #434B5C;\n",
              "      box-shadow: 0px 1px 3px 1px rgba(0, 0, 0, 0.15);\n",
              "      filter: drop-shadow(0px 1px 2px rgba(0, 0, 0, 0.3));\n",
              "      fill: #FFFFFF;\n",
              "    }\n",
              "  </style>\n",
              "\n",
              "    <script>\n",
              "      const buttonEl =\n",
              "        document.querySelector('#df-43ab7bf4-cd86-4867-af0f-4be8851f72b1 button.colab-df-convert');\n",
              "      buttonEl.style.display =\n",
              "        google.colab.kernel.accessAllowed ? 'block' : 'none';\n",
              "\n",
              "      async function convertToInteractive(key) {\n",
              "        const element = document.querySelector('#df-43ab7bf4-cd86-4867-af0f-4be8851f72b1');\n",
              "        const dataTable =\n",
              "          await google.colab.kernel.invokeFunction('convertToInteractive',\n",
              "                                                    [key], {});\n",
              "        if (!dataTable) return;\n",
              "\n",
              "        const docLinkHtml = 'Like what you see? Visit the ' +\n",
              "          '<a target=\"_blank\" href=https://colab.research.google.com/notebooks/data_table.ipynb>data table notebook</a>'\n",
              "          + ' to learn more about interactive tables.';\n",
              "        element.innerHTML = '';\n",
              "        dataTable['output_type'] = 'display_data';\n",
              "        await google.colab.output.renderOutput(dataTable, element);\n",
              "        const docLink = document.createElement('div');\n",
              "        docLink.innerHTML = docLinkHtml;\n",
              "        element.appendChild(docLink);\n",
              "      }\n",
              "    </script>\n",
              "  </div>\n",
              "\n",
              "\n",
              "    <div id=\"df-7f76fbb8-f816-4e9e-b267-eb72ffa6ade8\">\n",
              "      <button class=\"colab-df-quickchart\" onclick=\"quickchart('df-7f76fbb8-f816-4e9e-b267-eb72ffa6ade8')\"\n",
              "                title=\"Suggest charts\"\n",
              "                style=\"display:none;\">\n",
              "\n",
              "<svg xmlns=\"http://www.w3.org/2000/svg\" height=\"24px\"viewBox=\"0 0 24 24\"\n",
              "     width=\"24px\">\n",
              "    <g>\n",
              "        <path d=\"M19 3H5c-1.1 0-2 .9-2 2v14c0 1.1.9 2 2 2h14c1.1 0 2-.9 2-2V5c0-1.1-.9-2-2-2zM9 17H7v-7h2v7zm4 0h-2V7h2v10zm4 0h-2v-4h2v4z\"/>\n",
              "    </g>\n",
              "</svg>\n",
              "      </button>\n",
              "\n",
              "<style>\n",
              "  .colab-df-quickchart {\n",
              "      --bg-color: #E8F0FE;\n",
              "      --fill-color: #1967D2;\n",
              "      --hover-bg-color: #E2EBFA;\n",
              "      --hover-fill-color: #174EA6;\n",
              "      --disabled-fill-color: #AAA;\n",
              "      --disabled-bg-color: #DDD;\n",
              "  }\n",
              "\n",
              "  [theme=dark] .colab-df-quickchart {\n",
              "      --bg-color: #3B4455;\n",
              "      --fill-color: #D2E3FC;\n",
              "      --hover-bg-color: #434B5C;\n",
              "      --hover-fill-color: #FFFFFF;\n",
              "      --disabled-bg-color: #3B4455;\n",
              "      --disabled-fill-color: #666;\n",
              "  }\n",
              "\n",
              "  .colab-df-quickchart {\n",
              "    background-color: var(--bg-color);\n",
              "    border: none;\n",
              "    border-radius: 50%;\n",
              "    cursor: pointer;\n",
              "    display: none;\n",
              "    fill: var(--fill-color);\n",
              "    height: 32px;\n",
              "    padding: 0;\n",
              "    width: 32px;\n",
              "  }\n",
              "\n",
              "  .colab-df-quickchart:hover {\n",
              "    background-color: var(--hover-bg-color);\n",
              "    box-shadow: 0 1px 2px rgba(60, 64, 67, 0.3), 0 1px 3px 1px rgba(60, 64, 67, 0.15);\n",
              "    fill: var(--button-hover-fill-color);\n",
              "  }\n",
              "\n",
              "  .colab-df-quickchart-complete:disabled,\n",
              "  .colab-df-quickchart-complete:disabled:hover {\n",
              "    background-color: var(--disabled-bg-color);\n",
              "    fill: var(--disabled-fill-color);\n",
              "    box-shadow: none;\n",
              "  }\n",
              "\n",
              "  .colab-df-spinner {\n",
              "    border: 2px solid var(--fill-color);\n",
              "    border-color: transparent;\n",
              "    border-bottom-color: var(--fill-color);\n",
              "    animation:\n",
              "      spin 1s steps(1) infinite;\n",
              "  }\n",
              "\n",
              "  @keyframes spin {\n",
              "    0% {\n",
              "      border-color: transparent;\n",
              "      border-bottom-color: var(--fill-color);\n",
              "      border-left-color: var(--fill-color);\n",
              "    }\n",
              "    20% {\n",
              "      border-color: transparent;\n",
              "      border-left-color: var(--fill-color);\n",
              "      border-top-color: var(--fill-color);\n",
              "    }\n",
              "    30% {\n",
              "      border-color: transparent;\n",
              "      border-left-color: var(--fill-color);\n",
              "      border-top-color: var(--fill-color);\n",
              "      border-right-color: var(--fill-color);\n",
              "    }\n",
              "    40% {\n",
              "      border-color: transparent;\n",
              "      border-right-color: var(--fill-color);\n",
              "      border-top-color: var(--fill-color);\n",
              "    }\n",
              "    60% {\n",
              "      border-color: transparent;\n",
              "      border-right-color: var(--fill-color);\n",
              "    }\n",
              "    80% {\n",
              "      border-color: transparent;\n",
              "      border-right-color: var(--fill-color);\n",
              "      border-bottom-color: var(--fill-color);\n",
              "    }\n",
              "    90% {\n",
              "      border-color: transparent;\n",
              "      border-bottom-color: var(--fill-color);\n",
              "    }\n",
              "  }\n",
              "</style>\n",
              "\n",
              "      <script>\n",
              "        async function quickchart(key) {\n",
              "          const quickchartButtonEl =\n",
              "            document.querySelector('#' + key + ' button');\n",
              "          quickchartButtonEl.disabled = true;  // To prevent multiple clicks.\n",
              "          quickchartButtonEl.classList.add('colab-df-spinner');\n",
              "          try {\n",
              "            const charts = await google.colab.kernel.invokeFunction(\n",
              "                'suggestCharts', [key], {});\n",
              "          } catch (error) {\n",
              "            console.error('Error during call to suggestCharts:', error);\n",
              "          }\n",
              "          quickchartButtonEl.classList.remove('colab-df-spinner');\n",
              "          quickchartButtonEl.classList.add('colab-df-quickchart-complete');\n",
              "        }\n",
              "        (() => {\n",
              "          let quickchartButtonEl =\n",
              "            document.querySelector('#df-7f76fbb8-f816-4e9e-b267-eb72ffa6ade8 button');\n",
              "          quickchartButtonEl.style.display =\n",
              "            google.colab.kernel.accessAllowed ? 'block' : 'none';\n",
              "        })();\n",
              "      </script>\n",
              "    </div>\n",
              "\n",
              "    </div>\n",
              "  </div>\n"
            ],
            "application/vnd.google.colaboratory.intrinsic+json": {
              "type": "dataframe",
              "variable_name": "df",
              "summary": "{\n  \"name\": \"df\",\n  \"rows\": 243,\n  \"fields\": [\n    {\n      \"column\": \"Temperature\",\n      \"properties\": {\n        \"dtype\": \"number\",\n        \"std\": 3,\n        \"min\": 22,\n        \"max\": 42,\n        \"num_unique_values\": 19,\n        \"samples\": [\n          29,\n          33,\n          36\n        ],\n        \"semantic_type\": \"\",\n        \"description\": \"\"\n      }\n    },\n    {\n      \"column\": \"RH\",\n      \"properties\": {\n        \"dtype\": \"number\",\n        \"std\": 14,\n        \"min\": 21,\n        \"max\": 90,\n        \"num_unique_values\": 62,\n        \"samples\": [\n          83,\n          31,\n          57\n        ],\n        \"semantic_type\": \"\",\n        \"description\": \"\"\n      }\n    },\n    {\n      \"column\": \"Ws\",\n      \"properties\": {\n        \"dtype\": \"number\",\n        \"std\": 2,\n        \"min\": 6,\n        \"max\": 29,\n        \"num_unique_values\": 18,\n        \"samples\": [\n          18,\n          13,\n          21\n        ],\n        \"semantic_type\": \"\",\n        \"description\": \"\"\n      }\n    },\n    {\n      \"column\": \"Rain\",\n      \"properties\": {\n        \"dtype\": \"number\",\n        \"std\": 2.003206795506825,\n        \"min\": 0.0,\n        \"max\": 16.8,\n        \"num_unique_values\": 39,\n        \"samples\": [\n          6.0,\n          4.1,\n          0.2\n        ],\n        \"semantic_type\": \"\",\n        \"description\": \"\"\n      }\n    },\n    {\n      \"column\": \"FFMC\",\n      \"properties\": {\n        \"dtype\": \"number\",\n        \"std\": 14.349641256730104,\n        \"min\": 28.6,\n        \"max\": 96.0,\n        \"num_unique_values\": 173,\n        \"samples\": [\n          64.5,\n          72.6,\n          87.7\n        ],\n        \"semantic_type\": \"\",\n        \"description\": \"\"\n      }\n    },\n    {\n      \"column\": \"DMC\",\n      \"properties\": {\n        \"dtype\": \"number\",\n        \"std\": 12.393039751223832,\n        \"min\": 0.7,\n        \"max\": 65.9,\n        \"num_unique_values\": 165,\n        \"samples\": [\n          16.9,\n          18.0,\n          23.6\n        ],\n        \"semantic_type\": \"\",\n        \"description\": \"\"\n      }\n    },\n    {\n      \"column\": \"DC\",\n      \"properties\": {\n        \"dtype\": \"number\",\n        \"std\": 47.665605984589924,\n        \"min\": 6.9,\n        \"max\": 220.4,\n        \"num_unique_values\": 197,\n        \"samples\": [\n          90.1,\n          14.7,\n          27.1\n        ],\n        \"semantic_type\": \"\",\n        \"description\": \"\"\n      }\n    },\n    {\n      \"column\": \"ISI\",\n      \"properties\": {\n        \"dtype\": \"number\",\n        \"std\": 4.154233833368702,\n        \"min\": 0.0,\n        \"max\": 19.0,\n        \"num_unique_values\": 106,\n        \"samples\": [\n          13.1,\n          4.8,\n          1.2\n        ],\n        \"semantic_type\": \"\",\n        \"description\": \"\"\n      }\n    },\n    {\n      \"column\": \"BUI\",\n      \"properties\": {\n        \"dtype\": \"number\",\n        \"std\": 14.22842113146896,\n        \"min\": 1.1,\n        \"max\": 68.0,\n        \"num_unique_values\": 173,\n        \"samples\": [\n          4.6,\n          8.3,\n          7.7\n        ],\n        \"semantic_type\": \"\",\n        \"description\": \"\"\n      }\n    },\n    {\n      \"column\": \"FWI\",\n      \"properties\": {\n        \"dtype\": \"number\",\n        \"std\": 7.440567726345274,\n        \"min\": 0.0,\n        \"max\": 31.1,\n        \"num_unique_values\": 125,\n        \"samples\": [\n          15.0,\n          10.7,\n          2.1\n        ],\n        \"semantic_type\": \"\",\n        \"description\": \"\"\n      }\n    },\n    {\n      \"column\": \"Classes\",\n      \"properties\": {\n        \"dtype\": \"number\",\n        \"std\": 0,\n        \"min\": 0,\n        \"max\": 1,\n        \"num_unique_values\": 2,\n        \"samples\": [\n          1,\n          0\n        ],\n        \"semantic_type\": \"\",\n        \"description\": \"\"\n      }\n    },\n    {\n      \"column\": \"Region\",\n      \"properties\": {\n        \"dtype\": \"number\",\n        \"std\": 0.501027750313655,\n        \"min\": 0.0,\n        \"max\": 1.0,\n        \"num_unique_values\": 2,\n        \"samples\": [\n          1.0,\n          0.0\n        ],\n        \"semantic_type\": \"\",\n        \"description\": \"\"\n      }\n    }\n  ]\n}"
            }
          },
          "metadata": {},
          "execution_count": 21
        }
      ]
    },
    {
      "cell_type": "code",
      "source": [
        "x =  df.drop('FWI' , axis = 1)\n",
        "y = df['FWI']"
      ],
      "metadata": {
        "id": "2_ATrz_Zlw5m"
      },
      "execution_count": 22,
      "outputs": []
    },
    {
      "cell_type": "markdown",
      "source": [
        "## Feature Selection\n",
        "\n",
        "Here, we identify and remove highly correlated features from the dataset to avoid multicollinearity issues, which can affect model performance."
      ],
      "metadata": {
        "id": "oLS0C-8REf1y"
      }
    },
    {
      "cell_type": "code",
      "source": [
        "from sklearn.model_selection import train_test_split\n",
        "x_train , x_test , y_train , y_test = train_test_split(x,y,test_size = 0.2 , random_state = 78)"
      ],
      "metadata": {
        "id": "PZfeyp0KmLGm"
      },
      "execution_count": 23,
      "outputs": []
    },
    {
      "cell_type": "code",
      "source": [
        "plt.figure(figsize = (12,6))\n",
        "corr = x_train.corr()\n",
        "sns.heatmap(corr , annot= True)"
      ],
      "metadata": {
        "colab": {
          "base_uri": "https://localhost:8080/",
          "height": 546
        },
        "id": "QAdwskgMmWMm",
        "outputId": "9dadfb3c-d0c7-4c57-afba-fb85c3c12b1c"
      },
      "execution_count": 24,
      "outputs": [
        {
          "output_type": "execute_result",
          "data": {
            "text/plain": [
              "<Axes: >"
            ]
          },
          "metadata": {},
          "execution_count": 24
        },
        {
          "output_type": "display_data",
          "data": {
            "text/plain": [
              "<Figure size 1200x600 with 2 Axes>"
            ],
            "image/png": "[encoded data removed]"
          },
          "metadata": {}
        }
      ]
    },
    {
      "cell_type": "code",
      "source": [
        "def corelation(dataset , threshold):\n",
        "  col_corr = set()\n",
        "  corr_matrix = dataset.corr()\n",
        "  for i in range(len(corr_matrix.columns)):\n",
        "    for j in range(i):\n",
        "      if abs(corr_matrix.iloc[i,j]) > threshold:\n",
        "        colname = corr_matrix.columns[i]\n",
        "        col_corr.add(colname)\n",
        "  return col_corr"
      ],
      "metadata": {
        "id": "x-5RWIAywciJ"
      },
      "execution_count": 25,
      "outputs": []
    },
    {
      "cell_type": "code",
      "source": [
        "corr_features = corelation(x_train , 0.85)"
      ],
      "metadata": {
        "id": "Y6-59MWBy0R-"
      },
      "execution_count": 26,
      "outputs": []
    },
    {
      "cell_type": "code",
      "source": [
        "x_train.drop(corr_features , axis = 1 , inplace = True)\n",
        "x_test.drop(corr_features , axis = 1 , inplace = True)"
      ],
      "metadata": {
        "id": "5ZRqmM908kbg"
      },
      "execution_count": 27,
      "outputs": []
    },
    {
      "cell_type": "code",
      "source": [
        "x_train.info()"
      ],
      "metadata": {
        "colab": {
          "base_uri": "https://localhost:8080/"
        },
        "id": "-57b3dJj86p8",
        "outputId": "395f56c3-0684-4513-bcc4-58381adbefca"
      },
      "execution_count": 28,
      "outputs": [
        {
          "output_type": "stream",
          "name": "stdout",
          "text": [
            "<class 'pandas.core.frame.DataFrame'>\n",
            "Index: 194 entries, 147 to 197\n",
            "Data columns (total 9 columns):\n",
            " #   Column       Non-Null Count  Dtype  \n",
            "---  ------       --------------  -----  \n",
            " 0   Temperature  194 non-null    int64  \n",
            " 1   RH           194 non-null    int64  \n",
            " 2   Ws           194 non-null    int64  \n",
            " 3   Rain         194 non-null    float64\n",
            " 4   FFMC         194 non-null    float64\n",
            " 5   DMC          194 non-null    float64\n",
            " 6   ISI          194 non-null    float64\n",
            " 7   Classes      194 non-null    int64  \n",
            " 8   Region       194 non-null    float64\n",
            "dtypes: float64(5), int64(4)\n",
            "memory usage: 15.2 KB\n"
          ]
        }
      ]
    },
    {
      "cell_type": "markdown",
      "source": [
        "## StandardScaler\n",
        "* Intialize standard scaler"
      ],
      "metadata": {
        "id": "CoOX_5b1Fu1j"
      }
    },
    {
      "cell_type": "code",
      "source": [
        "from sklearn.preprocessing import StandardScaler\n",
        "sc = StandardScaler()\n",
        "x_train_scaler = sc.fit_transform(x_train)\n",
        "x_test_scaler = sc.transform(x_test)\n"
      ],
      "metadata": {
        "id": "smkYgsNTFioT"
      },
      "execution_count": 29,
      "outputs": []
    },
    {
      "cell_type": "code",
      "source": [
        "x_test_scaler"
      ],
      "metadata": {
        "colab": {
          "base_uri": "https://localhost:8080/"
        },
        "id": "7mYKpQH9-9-I",
        "outputId": "a7b99930-bd23-425b-d143-46407d09f119"
      },
      "execution_count": 30,
      "outputs": [
        {
          "output_type": "execute_result",
          "data": {
            "text/plain": [
              "array([[-6.02429559e-01,  1.44691350e-01, -5.12711058e-01,\n",
              "        -4.35233089e-01,  8.81984472e-02, -7.79279087e-01,\n",
              "        -6.18443147e-01, -1.13241024e+00,  1.00000000e+00],\n",
              "       [ 7.85591040e-01, -4.07055519e-01, -5.12711058e-01,\n",
              "        -1.79755875e-01,  7.34225415e-02,  1.93407939e+00,\n",
              "        -6.43124894e-01, -1.13241024e+00,  1.00000000e+00],\n",
              "       [-1.99045016e+00,  9.72311654e-01,  5.12711058e-01,\n",
              "         4.16335677e+00, -2.37937780e+00, -1.11204947e+00,\n",
              "        -1.11207808e+00, -1.13241024e+00, -1.00000000e+00],\n",
              "       [-6.02429559e-01,  1.24818509e+00,  1.70903686e-01,\n",
              "        -1.79755875e-01, -1.35984031e+00, -9.32865416e-01,\n",
              "        -9.39305854e-01, -1.13241024e+00, -1.00000000e+00],\n",
              "       [-1.15763780e+00,  1.17921673e+00,  8.54518430e-01,\n",
              "        -3.71363786e-01, -3.55078723e-01,  1.76369181e-01,\n",
              "        -7.17170134e-01, -1.13241024e+00, -1.00000000e+00],\n",
              "       [-3.24825439e-01,  6.27469861e-01,  5.12711058e-01,\n",
              "        -2.43625178e-01, -6.35820930e-01, -9.49930564e-01,\n",
              "        -7.91215374e-01, -1.13241024e+00, -1.00000000e+00],\n",
              "       [-1.15763780e+00,  1.73096360e+00, -1.70903686e-01,\n",
              "         2.37501627e+00, -2.74138749e+00, -6.68355628e-01,\n",
              "        -1.13675983e+00, -1.13241024e+00,  1.00000000e+00],\n",
              "       [-3.24825439e-01, -1.37261254e+00,  1.87994055e+00,\n",
              "        -4.35233089e-01,  9.15649164e-01,  3.29955509e-01,\n",
              "         2.14591248e+00,  8.83072202e-01,  1.00000000e+00],\n",
              "       [ 7.85591040e-01,  4.20564785e-01,  1.19632580e+00,\n",
              "        -4.35233089e-01,  7.45726249e-01,  9.86963694e-01,\n",
              "         1.01055213e+00,  8.83072202e-01, -1.00000000e+00],\n",
              "       [ 5.07986920e-01, -1.16570746e+00,  5.12711058e-01,\n",
              "        -4.35233089e-01,  9.08261211e-01,  3.12890362e-01,\n",
              "         1.52886881e+00,  8.83072202e-01,  1.00000000e+00],\n",
              "       [-1.43524192e+00,  1.04128001e+00,  1.70903686e-01,\n",
              "        -4.35233089e-01, -9.90442666e-01, -9.66995712e-01,\n",
              "        -8.65260614e-01, -1.13241024e+00, -1.00000000e+00],\n",
              "       [ 2.30382800e-01, -5.44992236e-01, -8.54518430e-01,\n",
              "        -4.35233089e-01,  7.38338296e-01, -3.78248118e-01,\n",
              "         4.18190213e-01,  8.83072202e-01, -1.00000000e+00],\n",
              "       [ 5.07986920e-01,  2.13659709e-01, -8.54518430e-01,\n",
              "        -4.35233089e-01,  6.34906957e-01, -2.75857232e-01,\n",
              "         1.22009253e-01,  8.83072202e-01, -1.00000000e+00],\n",
              "       [ 7.85591040e-01, -4.07055519e-01, -5.12711058e-01,\n",
              "        -4.35233089e-01,  7.97441919e-01,  1.28560378e+00,\n",
              "         6.89689426e-01,  8.83072202e-01,  1.00000000e+00],\n",
              "       [ 7.85591040e-01, -2.00150443e-01,  5.12711058e-01,\n",
              "        -4.35233089e-01,  6.79234674e-01,  3.98479994e-02,\n",
              "         5.41598946e-01,  8.83072202e-01, -1.00000000e+00],\n",
              "       [-1.15763780e+00,  1.24818509e+00,  1.87994055e+00,\n",
              "         1.02948099e+01, -1.89916086e+00, -4.80639004e-01,\n",
              "        -1.01335109e+00, -1.13241024e+00, -1.00000000e+00],\n",
              "       [ 5.07986920e-01,  1.31715345e+00, -1.70903686e-01,\n",
              "        -4.35233089e-01,  2.65509315e-01, -3.95313266e-01,\n",
              "        -4.20989174e-01, -1.13241024e+00, -1.00000000e+00],\n",
              "       [ 7.85591040e-01, -4.76023878e-01, -5.12711058e-01,\n",
              "        -4.35233089e-01,  7.90053966e-01,  3.64085805e-01,\n",
              "         6.65007680e-01,  8.83072202e-01, -1.00000000e+00],\n",
              "       [-1.71284604e+00,  1.38612181e+00,  2.22174792e+00,\n",
              "         7.93164567e+00, -2.29811032e+00, -1.00965858e+00,\n",
              "        -1.08739633e+00, -1.13241024e+00, -1.00000000e+00],\n",
              "       [ 1.06319516e+00, -2.26920120e+00,  8.54518430e-01,\n",
              "        -4.35233089e-01,  1.15945161e+00,  2.15592631e+00,\n",
              "         3.40468156e+00,  8.83072202e-01,  1.00000000e+00],\n",
              "       [-2.26805428e+00, -5.44992236e-01,  8.54518430e-01,\n",
              "        -3.71363786e-01,  1.10362306e-01, -8.56072252e-01,\n",
              "        -7.41851881e-01, -1.13241024e+00,  1.00000000e+00],\n",
              "       [ 1.06319516e+00, -4.76023878e-01, -8.54518430e-01,\n",
              "        -2.43625178e-01,  3.09837032e-01,  1.08108590e-01,\n",
              "        -2.48216947e-01,  8.83072202e-01, -1.00000000e+00],\n",
              "       [-8.80033679e-01,  1.66199524e+00,  1.70903686e-01,\n",
              "        -4.35233089e-01, -2.97780198e+00, -1.14617976e+00,\n",
              "        -1.13675983e+00, -1.13241024e+00,  1.00000000e+00],\n",
              "       [ 7.85591040e-01, -1.92435941e+00,  1.70903686e-01,\n",
              "        -3.07494482e-01,  7.45726249e-01,  2.19032050e-01,\n",
              "         6.89689426e-01,  8.83072202e-01,  1.00000000e+00],\n",
              "       [-3.24825439e-01,  1.44691350e-01, -1.70903686e-01,\n",
              "        -4.35233089e-01,  6.27519004e-01, -1.13474435e-02,\n",
              "         2.45417986e-01,  8.83072202e-01, -1.00000000e+00],\n",
              "       [ 1.06319516e+00, -1.30364418e+00, -1.70903686e-01,\n",
              "         7.78283678e-01,  3.02449079e-01, -4.20910987e-01,\n",
              "        -3.71625681e-01,  8.83072202e-01,  1.00000000e+00],\n",
              "       [ 7.85591040e-01, -1.37261254e+00, -1.70903686e-01,\n",
              "        -2.43625178e-01,  4.79759947e-01,  9.95760161e-02,\n",
              "        -1.00126467e-01,  8.83072202e-01,  1.00000000e+00],\n",
              "       [ 1.34079928e+00, -1.71745433e+00, -5.12711058e-01,\n",
              "        -4.35233089e-01,  1.18900342e+00,  1.84022108e+00,\n",
              "         2.78763789e+00,  8.83072202e-01,  1.00000000e+00],\n",
              "       [-8.80033679e-01,  1.73096360e+00, -1.70903686e-01,\n",
              "        -1.79755875e-01, -2.27594646e+00, -8.64604826e-01,\n",
              "        -1.11207808e+00, -1.13241024e+00,  1.00000000e+00],\n",
              "       [-4.72213194e-02, -4.76023878e-01, -5.12711058e-01,\n",
              "        -4.35233089e-01,  8.04829872e-01,  9.52833398e-01,\n",
              "         7.14371173e-01,  8.83072202e-01, -1.00000000e+00],\n",
              "       [-6.02429559e-01,  1.86890032e+00,  1.70903686e-01,\n",
              "        -5.20172678e-02, -3.02212969e+00, -1.12911461e+00,\n",
              "        -1.16144157e+00, -1.13241024e+00, -1.00000000e+00],\n",
              "       [-6.02429559e-01,  2.13659709e-01, -5.12711058e-01,\n",
              "        -4.35233089e-01, -7.84493960e-03, -9.49930564e-01,\n",
              "        -6.92488387e-01, -1.13241024e+00, -1.00000000e+00],\n",
              "       [-1.99045016e+00,  1.11024837e+00, -5.12711058e-01,\n",
              "         4.58937160e-01, -2.45325733e+00, -1.06085402e+00,\n",
              "        -1.11207808e+00, -1.13241024e+00, -1.00000000e+00],\n",
              "       [-6.02429559e-01,  1.79993196e+00, -5.12711058e-01,\n",
              "        -4.35233089e-01,  3.17224985e-01, -6.59823054e-01,\n",
              "        -4.20989174e-01,  8.83072202e-01,  1.00000000e+00],\n",
              "       [ 1.34079928e+00, -1.71745433e+00, -8.54518430e-01,\n",
              "        -4.35233089e-01,  1.05602027e+00,  1.09788715e+00,\n",
              "         1.72632279e+00,  8.83072202e-01,  1.00000000e+00],\n",
              "       [-4.72213194e-02, -5.44992236e-01, -1.53813317e+00,\n",
              "        -1.15886571e-01, -3.32914864e-01, -5.48899594e-01,\n",
              "        -8.65260614e-01, -1.13241024e+00, -1.00000000e+00],\n",
              "       [-1.99045016e+00,  1.11024837e+00, -1.70903686e-01,\n",
              "         1.99180045e+00, -2.63056819e+00, -1.12058204e+00,\n",
              "        -1.13675983e+00, -1.13241024e+00, -1.00000000e+00],\n",
              "       [ 5.07986920e-01,  5.58501502e-01,  1.70903686e-01,\n",
              "        -4.35233089e-01,  5.75803334e-01, -1.30803477e-01,\n",
              "         1.71372746e-01,  8.83072202e-01,  1.00000000e+00],\n",
              "       [ 5.07986920e-01, -2.69118802e-01, -8.54518430e-01,\n",
              "        -3.07494482e-01,  9.55864000e-02,  3.72618378e-01,\n",
              "        -6.43124894e-01, -1.13241024e+00,  1.00000000e+00],\n",
              "       [ 1.06319516e+00, -5.44992236e-01, -5.12711058e-01,\n",
              "        -4.35233089e-01,  9.45200975e-01,  4.39999322e+00,\n",
              "         1.30673309e+00,  8.83072202e-01,  1.00000000e+00],\n",
              "       [ 5.07986920e-01, -1.51054926e+00,  8.54518430e-01,\n",
              "        -4.35233089e-01,  1.02646846e+00,  3.58086614e+00,\n",
              "         2.36804820e+00,  8.83072202e-01,  1.00000000e+00],\n",
              "       [ 1.06319516e+00, -9.58802388e-01, -8.54518430e-01,\n",
              "        -4.35233089e-01,  8.93485306e-01,  6.71258462e-01,\n",
              "         9.85870386e-01,  8.83072202e-01, -1.00000000e+00],\n",
              "       [ 7.85591040e-01,  2.82628068e-01, -1.70903686e-01,\n",
              "        -3.71363786e-01,  3.32000891e-01,  1.56717871e+00,\n",
              "        -3.46943934e-01,  8.83072202e-01,  1.00000000e+00],\n",
              "       [-3.24825439e-01,  2.13659709e-01, -5.12711058e-01,\n",
              "        -4.35233089e-01,  4.64984041e-01, -1.56401199e-01,\n",
              "        -1.74171707e-01,  8.83072202e-01, -1.00000000e+00],\n",
              "       [-8.80033679e-01,  7.65406578e-01,  5.12711058e-01,\n",
              "        -3.71363786e-01, -7.24476364e-01, -1.06085402e+00,\n",
              "        -8.15897121e-01, -1.13241024e+00, -1.00000000e+00],\n",
              "       [-3.24825439e-01,  6.27469861e-01,  5.12711058e-01,\n",
              "        -4.35233089e-01,  6.71846721e-01,  2.75320647e+00,\n",
              "         5.41598946e-01,  8.83072202e-01,  1.00000000e+00],\n",
              "       [ 1.89600752e+00, -1.16570746e+00, -8.54518430e-01,\n",
              "        -5.20172678e-02,  5.16699711e-01, -2.58792084e-01,\n",
              "        -1.24808214e-01,  8.83072202e-01,  1.00000000e+00],\n",
              "       [ 1.06319516e+00, -4.07055519e-01,  1.70903686e-01,\n",
              "        -4.35233089e-01,  7.90053966e-01,  8.07779643e-01,\n",
              "         8.62461653e-01,  8.83072202e-01,  1.00000000e+00],\n",
              "       [ 5.07986920e-01,  4.89533144e-01, -8.54518430e-01,\n",
              "        -4.35233089e-01,  5.01923806e-01, -5.23301873e-01,\n",
              "        -1.74171707e-01,  8.83072202e-01, -1.00000000e+00]])"
            ]
          },
          "metadata": {},
          "execution_count": 30
        }
      ]
    },
    {
      "cell_type": "code",
      "source": [
        "plt.figure(figsize=(15,5)) # Set figure size using plt.figure()\n",
        "plt.subplot(1,2,1)\n",
        "sns.boxplot(data = x_train) # Correct variable name\n",
        "plt.title('Original Data')\n",
        "plt.subplot(1,2,2)\n",
        "sns.boxplot(data = x_train_scaler) # Correct variable name\n",
        "plt.title('Scaled Data')\n",
        "plt.tight_layout() # Adjust layout to prevent overlapping titles"
      ],
      "metadata": {
        "colab": {
          "base_uri": "https://localhost:8080/",
          "height": 482
        },
        "id": "b4bx0wrx_Dph",
        "outputId": "11995f71-6275-4846-8314-c3aac026c3e8"
      },
      "execution_count": 31,
      "outputs": [
        {
          "output_type": "display_data",
          "data": {
            "text/plain": [
              "<Figure size 1500x500 with 2 Axes>"
            ],
            "image/png": "[encoded data removed]"
          },
          "metadata": {}
        }
      ]
    },
    {
      "cell_type": "markdown",
      "source": [
        "## Model Training and Evaluation (Linear Regression)\n",
        "\n",
        "This section trains a standard Linear Regression model on the scaled data and evaluates its performance using metrics like R-squared, Mean Absolute Error, Mean Squared Error, and Root Mean Squared Error."
      ],
      "metadata": {
        "id": "LlSVfiq3GHfc"
      }
    },
    {
      "cell_type": "code",
      "source": [
        "from sklearn.linear_model import LinearRegression\n",
        "from sklearn.metrics import r2_score , mean_squared_error , mean_absolute_error\n",
        "lr = LinearRegression()\n",
        "lr.fit(x_train_scaler , y_train)\n",
        "y_pred = lr.predict(x_test_scaler)\n",
        "mae = mean_absolute_error(y_test , y_pred)\n",
        "mse = mean_squared_error(y_test , y_pred)\n",
        "rmse = np.sqrt(mse)\n",
        "r2 = r2_score(y_test , y_pred)"
      ],
      "metadata": {
        "id": "c0YcqSrUHIKA"
      },
      "execution_count": 32,
      "outputs": []
    },
    {
      "cell_type": "code",
      "source": [
        "r2*100"
      ],
      "metadata": {
        "colab": {
          "base_uri": "https://localhost:8080/"
        },
        "id": "x6okGAWhHvq2",
        "outputId": "8ec79c6c-e8f2-47f5-e358-6067bdbafc42"
      },
      "execution_count": 33,
      "outputs": [
        {
          "output_type": "execute_result",
          "data": {
            "text/plain": [
              "98.2911727230365"
            ]
          },
          "metadata": {},
          "execution_count": 33
        }
      ]
    },
    {
      "cell_type": "code",
      "source": [
        "mae"
      ],
      "metadata": {
        "colab": {
          "base_uri": "https://localhost:8080/"
        },
        "id": "uo5gQ5NGHyRi",
        "outputId": "b32c817a-a2b1-447e-e616-779071375e19"
      },
      "execution_count": 34,
      "outputs": [
        {
          "output_type": "execute_result",
          "data": {
            "text/plain": [
              "0.7962042017055891"
            ]
          },
          "metadata": {},
          "execution_count": 34
        }
      ]
    },
    {
      "cell_type": "code",
      "source": [
        "mse , rmse , mae"
      ],
      "metadata": {
        "colab": {
          "base_uri": "https://localhost:8080/"
        },
        "id": "2pHh16YuHzbw",
        "outputId": "5008dabb-2882-423f-c2d3-3ee8f34b920c"
      },
      "execution_count": 35,
      "outputs": [
        {
          "output_type": "execute_result",
          "data": {
            "text/plain": [
              "(1.184493021256029, np.float64(1.0883441648927186), 0.7962042017055891)"
            ]
          },
          "metadata": {},
          "execution_count": 35
        }
      ]
    },
    {
      "cell_type": "code",
      "source": [
        "lr.coef_"
      ],
      "metadata": {
        "colab": {
          "base_uri": "https://localhost:8080/"
        },
        "id": "-YjL6naNIQ-R",
        "outputId": "8e57ff34-8a56-4496-8c02-f2bd1b5a4ab3"
      },
      "execution_count": 36,
      "outputs": [
        {
          "output_type": "execute_result",
          "data": {
            "text/plain": [
              "array([ 0.04499112, -0.13396157,  0.07452622,  0.07247819, -0.7267868 ,\n",
              "        3.49799643,  4.42802376,  0.44956196, -0.37060483])"
            ]
          },
          "metadata": {},
          "execution_count": 36
        }
      ]
    },
    {
      "cell_type": "markdown",
      "source": [
        "## OLS Model (using statsmodels)\n",
        "\n",
        "Here, we are using the `statsmodels` library to train an Ordinary Least Squares (OLS) regression model. This provides a more detailed statistical summary of the model, including p-values, R-squared (uncentered), and other metrics to understand the significance and coefficients of the features."
      ],
      "metadata": {
        "id": "HAW3nBTkGPyb"
      }
    },
    {
      "cell_type": "code",
      "source": [
        "import statsmodels.api as sm\n",
        "olsm = sm.OLS(y_train , x_train).fit()\n",
        "olsm.summary()"
      ],
      "metadata": {
        "colab": {
          "base_uri": "https://localhost:8080/",
          "height": 608
        },
        "id": "doo55AWQIoMB",
        "outputId": "48e440b8-5d23-4b33-982e-7acf32529779"
      },
      "execution_count": 37,
      "outputs": [
        {
          "output_type": "execute_result",
          "data": {
            "text/plain": [
              "<class 'statsmodels.iolib.summary.Summary'>\n",
              "\"\"\"\n",
              "                                 OLS Regression Results                                \n",
              "=======================================================================================\n",
              "Dep. Variable:                    FWI   R-squared (uncentered):                   0.984\n",
              "Model:                            OLS   Adj. R-squared (uncentered):              0.983\n",
              "Method:                 Least Squares   F-statistic:                              1244.\n",
              "Date:                Thu, 26 Jun 2025   Prob (F-statistic):                   2.17e-160\n",
              "Time:                        07:14:42   Log-Likelihood:                         -321.08\n",
              "No. Observations:                 194   AIC:                                      660.2\n",
              "Df Residuals:                     185   BIC:                                      689.6\n",
              "Df Model:                           9                                                  \n",
              "Covariance Type:            nonrobust                                                  \n",
              "===============================================================================\n",
              "                  coef    std err          t      P>|t|      [0.025      0.975]\n",
              "-------------------------------------------------------------------------------\n",
              "Temperature     0.0267      0.031      0.849      0.397      -0.035       0.089\n",
              "RH             -0.0043      0.008     -0.524      0.601      -0.021       0.012\n",
              "Ws              0.0321      0.034      0.949      0.344      -0.035       0.099\n",
              "Rain            0.0640      0.073      0.881      0.380      -0.079       0.207\n",
              "FFMC           -0.0484      0.014     -3.579      0.000      -0.075      -0.022\n",
              "DMC             0.2971      0.011     26.892      0.000       0.275       0.319\n",
              "ISI             1.0961      0.049     22.496      0.000       1.000       1.192\n",
              "Classes         0.8298      0.333      2.492      0.014       0.173       1.487\n",
              "Region         -0.7209      0.205     -3.516      0.001      -1.125      -0.316\n",
              "==============================================================================\n",
              "Omnibus:                      236.766   Durbin-Watson:                   2.150\n",
              "Prob(Omnibus):                  0.000   Jarque-Bera (JB):            17308.084\n",
              "Skew:                          -4.757   Prob(JB):                         0.00\n",
              "Kurtosis:                      48.285   Cond. No.                         386.\n",
              "==============================================================================\n",
              "\n",
              "Notes:\n",
              "[1] R² is computed without centering (uncentered) since the model does not contain a constant.\n",
              "[2] Standard Errors assume that the covariance matrix of the errors is correctly specified.\n",
              "\"\"\""
            ],
            "text/html": [
              "<table class=\"simpletable\">\n",
              "<caption>OLS Regression Results</caption>\n",
              "<tr>\n",
              "  <th>Dep. Variable:</th>           <td>FWI</td>       <th>  R-squared (uncentered):</th>      <td>   0.984</td> \n",
              "</tr>\n",
              "<tr>\n",
              "  <th>Model:</th>                   <td>OLS</td>       <th>  Adj. R-squared (uncentered):</th> <td>   0.983</td> \n",
              "</tr>\n",
              "<tr>\n",
              "  <th>Method:</th>             <td>Least Squares</td>  <th>  F-statistic:       </th>          <td>   1244.</td> \n",
              "</tr>\n",
              "<tr>\n",
              "  <th>Date:</th>             <td>Thu, 26 Jun 2025</td> <th>  Prob (F-statistic):</th>          <td>2.17e-160</td>\n",
              "</tr>\n",
              "<tr>\n",
              "  <th>Time:</th>                 <td>07:14:42</td>     <th>  Log-Likelihood:    </th>          <td> -321.08</td> \n",
              "</tr>\n",
              "<tr>\n",
              "  <th>No. Observations:</th>      <td>   194</td>      <th>  AIC:               </th>          <td>   660.2</td> \n",
              "</tr>\n",
              "<tr>\n",
              "  <th>Df Residuals:</th>          <td>   185</td>      <th>  BIC:               </th>          <td>   689.6</td> \n",
              "</tr>\n",
              "<tr>\n",
              "  <th>Df Model:</th>              <td>     9</td>      <th>                     </th>              <td> </td>    \n",
              "</tr>\n",
              "<tr>\n",
              "  <th>Covariance Type:</th>      <td>nonrobust</td>    <th>                     </th>              <td> </td>    \n",
              "</tr>\n",
              "</table>\n",
              "<table class=\"simpletable\">\n",
              "<tr>\n",
              "       <td></td>          <th>coef</th>     <th>std err</th>      <th>t</th>      <th>P>|t|</th>  <th>[0.025</th>    <th>0.975]</th>  \n",
              "</tr>\n",
              "<tr>\n",
              "  <th>Temperature</th> <td>    0.0267</td> <td>    0.031</td> <td>    0.849</td> <td> 0.397</td> <td>   -0.035</td> <td>    0.089</td>\n",
              "</tr>\n",
              "<tr>\n",
              "  <th>RH</th>          <td>   -0.0043</td> <td>    0.008</td> <td>   -0.524</td> <td> 0.601</td> <td>   -0.021</td> <td>    0.012</td>\n",
              "</tr>\n",
              "<tr>\n",
              "  <th>Ws</th>          <td>    0.0321</td> <td>    0.034</td> <td>    0.949</td> <td> 0.344</td> <td>   -0.035</td> <td>    0.099</td>\n",
              "</tr>\n",
              "<tr>\n",
              "  <th>Rain</th>        <td>    0.0640</td> <td>    0.073</td> <td>    0.881</td> <td> 0.380</td> <td>   -0.079</td> <td>    0.207</td>\n",
              "</tr>\n",
              "<tr>\n",
              "  <th>FFMC</th>        <td>   -0.0484</td> <td>    0.014</td> <td>   -3.579</td> <td> 0.000</td> <td>   -0.075</td> <td>   -0.022</td>\n",
              "</tr>\n",
              "<tr>\n",
              "  <th>DMC</th>         <td>    0.2971</td> <td>    0.011</td> <td>   26.892</td> <td> 0.000</td> <td>    0.275</td> <td>    0.319</td>\n",
              "</tr>\n",
              "<tr>\n",
              "  <th>ISI</th>         <td>    1.0961</td> <td>    0.049</td> <td>   22.496</td> <td> 0.000</td> <td>    1.000</td> <td>    1.192</td>\n",
              "</tr>\n",
              "<tr>\n",
              "  <th>Classes</th>     <td>    0.8298</td> <td>    0.333</td> <td>    2.492</td> <td> 0.014</td> <td>    0.173</td> <td>    1.487</td>\n",
              "</tr>\n",
              "<tr>\n",
              "  <th>Region</th>      <td>   -0.7209</td> <td>    0.205</td> <td>   -3.516</td> <td> 0.001</td> <td>   -1.125</td> <td>   -0.316</td>\n",
              "</tr>\n",
              "</table>\n",
              "<table class=\"simpletable\">\n",
              "<tr>\n",
              "  <th>Omnibus:</th>       <td>236.766</td> <th>  Durbin-Watson:     </th> <td>   2.150</td> \n",
              "</tr>\n",
              "<tr>\n",
              "  <th>Prob(Omnibus):</th> <td> 0.000</td>  <th>  Jarque-Bera (JB):  </th> <td>17308.084</td>\n",
              "</tr>\n",
              "<tr>\n",
              "  <th>Skew:</th>          <td>-4.757</td>  <th>  Prob(JB):          </th> <td>    0.00</td> \n",
              "</tr>\n",
              "<tr>\n",
              "  <th>Kurtosis:</th>      <td>48.285</td>  <th>  Cond. No.          </th> <td>    386.</td> \n",
              "</tr>\n",
              "</table><br/><br/>Notes:<br/>[1] R² is computed without centering (uncentered) since the model does not contain a constant.<br/>[2] Standard Errors assume that the covariance matrix of the errors is correctly specified."
            ],
            "text/latex": "\\begin{center}\n\\begin{tabular}{lclc}\n\\toprule\n\\textbf{Dep. Variable:}    &       FWI        & \\textbf{  R-squared (uncentered):}      &     0.984   \\\\\n\\textbf{Model:}            &       OLS        & \\textbf{  Adj. R-squared (uncentered):} &     0.983   \\\\\n\\textbf{Method:}           &  Least Squares   & \\textbf{  F-statistic:       }          &     1244.   \\\\\n\\textbf{Date:}             & Thu, 26 Jun 2025 & \\textbf{  Prob (F-statistic):}          & 2.17e-160   \\\\\n\\textbf{Time:}             &     07:14:42     & \\textbf{  Log-Likelihood:    }          &   -321.08   \\\\\n\\textbf{No. Observations:} &         194      & \\textbf{  AIC:               }          &     660.2   \\\\\n\\textbf{Df Residuals:}     &         185      & \\textbf{  BIC:               }          &     689.6   \\\\\n\\textbf{Df Model:}         &           9      & \\textbf{                     }          &             \\\\\n\\textbf{Covariance Type:}  &    nonrobust     & \\textbf{                     }          &             \\\\\n\\bottomrule\n\\end{tabular}\n\\begin{tabular}{lcccccc}\n                     & \\textbf{coef} & \\textbf{std err} & \\textbf{t} & \\textbf{P$> |$t$|$} & \\textbf{[0.025} & \\textbf{0.975]}  \\\\\n\\midrule\n\\textbf{Temperature} &       0.0267  &        0.031     &     0.849  &         0.397        &       -0.035    &        0.089     \\\\\n\\textbf{RH}          &      -0.0043  &        0.008     &    -0.524  &         0.601        &       -0.021    &        0.012     \\\\\n\\textbf{Ws}          &       0.0321  &        0.034     &     0.949  &         0.344        &       -0.035    &        0.099     \\\\\n\\textbf{Rain}        &       0.0640  &        0.073     &     0.881  &         0.380        &       -0.079    &        0.207     \\\\\n\\textbf{FFMC}        &      -0.0484  &        0.014     &    -3.579  &         0.000        &       -0.075    &       -0.022     \\\\\n\\textbf{DMC}         &       0.2971  &        0.011     &    26.892  &         0.000        &        0.275    &        0.319     \\\\\n\\textbf{ISI}         &       1.0961  &        0.049     &    22.496  &         0.000        &        1.000    &        1.192     \\\\\n\\textbf{Classes}     &       0.8298  &        0.333     &     2.492  &         0.014        &        0.173    &        1.487     \\\\\n\\textbf{Region}      &      -0.7209  &        0.205     &    -3.516  &         0.001        &       -1.125    &       -0.316     \\\\\n\\bottomrule\n\\end{tabular}\n\\begin{tabular}{lclc}\n\\textbf{Omnibus:}       & 236.766 & \\textbf{  Durbin-Watson:     } &     2.150  \\\\\n\\textbf{Prob(Omnibus):} &   0.000 & \\textbf{  Jarque-Bera (JB):  } & 17308.084  \\\\\n\\textbf{Skew:}          &  -4.757 & \\textbf{  Prob(JB):          } &      0.00  \\\\\n\\textbf{Kurtosis:}      &  48.285 & \\textbf{  Cond. No.          } &      386.  \\\\\n\\bottomrule\n\\end{tabular}\n%\\caption{OLS Regression Results}\n\\end{center}\n\nNotes: \\newline\n [1] R² is computed without centering (uncentered) since the model does not contain a constant. \\newline\n [2] Standard Errors assume that the covariance matrix of the errors is correctly specified."
          },
          "metadata": {},
          "execution_count": 37
        }
      ]
    },
    {
      "cell_type": "code",
      "source": [
        "plt.scatter(y_test , y_pred)\n"
      ],
      "metadata": {
        "colab": {
          "base_uri": "https://localhost:8080/",
          "height": 448
        },
        "id": "8dLVJz_8K8K_",
        "outputId": "3376fda2-def5-4274-e10a-e16f1dc8d156"
      },
      "execution_count": 38,
      "outputs": [
        {
          "output_type": "execute_result",
          "data": {
            "text/plain": [
              "<matplotlib.collections.PathCollection at 0x7baa6de17090>"
            ]
          },
          "metadata": {},
          "execution_count": 38
        },
        {
          "output_type": "display_data",
          "data": {
            "text/plain": [
              "<Figure size 640x480 with 1 Axes>"
            ],
            "image/png": "[encoded data removed]"
          },
          "metadata": {}
        }
      ]
    },
    {
      "cell_type": "markdown",
      "source": [
        "## Model Training and Evaluation (Regularized Models - Lasso, Ridge, ElasticNet)\n",
        "\n",
        "This section trains and evaluates regularized linear regression models (Lasso, Ridge, and ElasticNet) to see if regularization improves the model's performance and generalization."
      ],
      "metadata": {
        "id": "OwOQGxlwGTE8"
      }
    },
    {
      "cell_type": "code",
      "source": [
        "from sklearn.linear_model import Lasso\n",
        "from sklearn.metrics import r2_score , mean_squared_error , mean_absolute_error\n",
        "la = Lasso()\n",
        "la.fit(x_train_scaler , y_train)\n",
        "y_pred = la.predict(x_test_scaler)\n",
        "mae = mean_absolute_error(y_test , y_pred)\n",
        "mse = mean_squared_error(y_test , y_pred)\n",
        "rmse = np.sqrt(mse)\n",
        "r2 = r2_score(y_test , y_pred)\n",
        "plt.scatter(y_test , y_pred)\n",
        "r2,mae,mse,rmse"
      ],
      "metadata": {
        "colab": {
          "base_uri": "https://localhost:8080/",
          "height": 503
        },
        "id": "H-tSAbMaLDpu",
        "outputId": "ec473cf2-daae-4b73-e309-cf3f1a10777b"
      },
      "execution_count": 39,
      "outputs": [
        {
          "output_type": "execute_result",
          "data": {
            "text/plain": [
              "(0.955388192805867,\n",
              " 1.2765786390355116,\n",
              " 3.0923180475541314,\n",
              " np.float64(1.7584988051045505))"
            ]
          },
          "metadata": {},
          "execution_count": 39
        },
        {
          "output_type": "display_data",
          "data": {
            "text/plain": [
              "<Figure size 640x480 with 1 Axes>"
            ],
            "image/png": "[encoded data removed]"
          },
          "metadata": {}
        }
      ]
    },
    {
      "cell_type": "code",
      "source": [
        "from sklearn.linear_model import Ridge\n",
        "from sklearn.metrics import r2_score , mean_squared_error , mean_absolute_error\n",
        "Rd = Ridge()\n",
        "Rd.fit(x_train_scaler , y_train)\n",
        "y_pred = Rd.predict(x_test_scaler)\n",
        "mae = mean_absolute_error(y_test , y_pred)\n",
        "mse = mean_squared_error(y_test , y_pred)\n",
        "rmse = np.sqrt(mse)\n",
        "r2 = r2_score(y_test , y_pred)\n",
        "plt.scatter(y_test , y_pred)\n",
        "r2,mae,mse,rmse"
      ],
      "metadata": {
        "colab": {
          "base_uri": "https://localhost:8080/",
          "height": 503
        },
        "id": "2ifI4-KPMLT0",
        "outputId": "3b461c4e-d726-49d5-9ec4-81666de79ef9"
      },
      "execution_count": 40,
      "outputs": [
        {
          "output_type": "execute_result",
          "data": {
            "text/plain": [
              "(0.9824043731508578,\n",
              " 0.8156699356671974,\n",
              " 1.2196608450954234,\n",
              " np.float64(1.1043825628356432))"
            ]
          },
          "metadata": {},
          "execution_count": 40
        },
        {
          "output_type": "display_data",
          "data": {
            "text/plain": [
              "<Figure size 640x480 with 1 Axes>"
            ],
            "image/png": "[encoded data removed]"
          },
          "metadata": {}
        }
      ]
    },
    {
      "cell_type": "code",
      "source": [
        "from sklearn.linear_model import ElasticNet\n",
        "from sklearn.metrics import r2_score , mean_squared_error , mean_absolute_error\n",
        "En = ElasticNet()\n",
        "En.fit(x_train_scaler , y_train)\n",
        "y_pred = En.predict(x_test_scaler)\n",
        "mae = mean_absolute_error(y_test , y_pred)\n",
        "mse = mean_squared_error(y_test , y_pred)\n",
        "rmse = np.sqrt(mse)\n",
        "r2 = r2_score(y_test , y_pred)\n",
        "plt.scatter(y_test , y_pred)\n",
        "r2,mae,mse,rmse"
      ],
      "metadata": {
        "colab": {
          "base_uri": "https://localhost:8080/",
          "height": 503
        },
        "id": "JoDfqxrIMeCa",
        "outputId": "36f34aef-f833-4a90-f309-1d09aeff7b7c"
      },
      "execution_count": 41,
      "outputs": [
        {
          "output_type": "execute_result",
          "data": {
            "text/plain": [
              "(0.8871718648291476,\n",
              " 1.984263494337258,\n",
              " 7.820810242957119,\n",
              " np.float64(2.7965711582144874))"
            ]
          },
          "metadata": {},
          "execution_count": 41
        },
        {
          "output_type": "display_data",
          "data": {
            "text/plain": [
              "<Figure size 640x480 with 1 Axes>"
            ],
            "image/png": "[encoded data removed]"
          },
          "metadata": {}
        }
      ]
    }
  ]
}